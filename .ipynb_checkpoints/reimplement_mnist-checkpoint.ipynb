{
 "cells": [
  {
   "cell_type": "code",
   "execution_count": 2,
   "metadata": {},
   "outputs": [],
   "source": [
    "import tensorflow.keras as keras"
   ]
  },
  {
   "cell_type": "code",
   "execution_count": 3,
   "metadata": {},
   "outputs": [
    {
     "name": "stdout",
     "output_type": "stream",
     "text": [
      "<module 'tensorflow_core.python.keras.api._v2.keras.datasets.mnist' from 'C:\\\\Users\\\\mrtru\\\\Anaconda3\\\\envs\\\\tensorflow_gpu\\\\lib\\\\site-packages\\\\tensorflow_core\\\\python\\\\keras\\\\api\\\\_v2\\\\keras\\\\datasets\\\\mnist\\\\__init__.py'>\n"
     ]
    }
   ],
   "source": [
    "mnist = keras.datasets.mnist\n",
    "print(mnist)"
   ]
  },
  {
   "cell_type": "code",
   "execution_count": 4,
   "metadata": {},
   "outputs": [],
   "source": [
    "(x_train, y_train), (x_test, y_test) = mnist.load_data()"
   ]
  },
  {
   "cell_type": "code",
   "execution_count": 14,
   "metadata": {},
   "outputs": [],
   "source": [
    "import matplotlib.pyplot as plt"
   ]
  },
  {
   "cell_type": "code",
   "execution_count": 15,
   "metadata": {
    "collapsed": true
   },
   "outputs": [
    {
     "name": "stdout",
     "output_type": "stream",
     "text": [
      "[[[0 0 0 ... 0 0 0]\n",
      "  [0 0 0 ... 0 0 0]\n",
      "  [0 0 0 ... 0 0 0]\n",
      "  ...\n",
      "  [0 0 0 ... 0 0 0]\n",
      "  [0 0 0 ... 0 0 0]\n",
      "  [0 0 0 ... 0 0 0]]\n",
      "\n",
      " [[0 0 0 ... 0 0 0]\n",
      "  [0 0 0 ... 0 0 0]\n",
      "  [0 0 0 ... 0 0 0]\n",
      "  ...\n",
      "  [0 0 0 ... 0 0 0]\n",
      "  [0 0 0 ... 0 0 0]\n",
      "  [0 0 0 ... 0 0 0]]\n",
      "\n",
      " [[0 0 0 ... 0 0 0]\n",
      "  [0 0 0 ... 0 0 0]\n",
      "  [0 0 0 ... 0 0 0]\n",
      "  ...\n",
      "  [0 0 0 ... 0 0 0]\n",
      "  [0 0 0 ... 0 0 0]\n",
      "  [0 0 0 ... 0 0 0]]\n",
      "\n",
      " ...\n",
      "\n",
      " [[0 0 0 ... 0 0 0]\n",
      "  [0 0 0 ... 0 0 0]\n",
      "  [0 0 0 ... 0 0 0]\n",
      "  ...\n",
      "  [0 0 0 ... 0 0 0]\n",
      "  [0 0 0 ... 0 0 0]\n",
      "  [0 0 0 ... 0 0 0]]\n",
      "\n",
      " [[0 0 0 ... 0 0 0]\n",
      "  [0 0 0 ... 0 0 0]\n",
      "  [0 0 0 ... 0 0 0]\n",
      "  ...\n",
      "  [0 0 0 ... 0 0 0]\n",
      "  [0 0 0 ... 0 0 0]\n",
      "  [0 0 0 ... 0 0 0]]\n",
      "\n",
      " [[0 0 0 ... 0 0 0]\n",
      "  [0 0 0 ... 0 0 0]\n",
      "  [0 0 0 ... 0 0 0]\n",
      "  ...\n",
      "  [0 0 0 ... 0 0 0]\n",
      "  [0 0 0 ... 0 0 0]\n",
      "  [0 0 0 ... 0 0 0]]]\n"
     ]
    }
   ],
   "source": [
    "print(x_train)"
   ]
  },
  {
   "cell_type": "code",
   "execution_count": 16,
   "metadata": {},
   "outputs": [
    {
     "data": {
      "text/plain": [
       "<matplotlib.image.AxesImage at 0x1f6aa57ebc8>"
      ]
     },
     "execution_count": 16,
     "metadata": {},
     "output_type": "execute_result"
    },
    {
     "data": {
      "image/png": "[encoded data removed]",
      "text/plain": [
       "<Figure size 432x288 with 1 Axes>"
      ]
     },
     "metadata": {
      "needs_background": "light"
     },
     "output_type": "display_data"
    }
   ],
   "source": [
    "plt.imshow(x_train[0], cmap=plt.get_cmap('gray'))"
   ]
  },
  {
   "cell_type": "code",
   "execution_count": 9,
   "metadata": {},
   "outputs": [
    {
     "name": "stdout",
     "output_type": "stream",
     "text": [
      "[5 0 4 ... 5 6 8]\n"
     ]
    }
   ],
   "source": [
    "print(y_train)"
   ]
  },
  {
   "cell_type": "code",
   "execution_count": 37,
   "metadata": {},
   "outputs": [
    {
     "name": "stdout",
     "output_type": "stream",
     "text": [
      "[[  0   0   0   0   0   0   0   0   0   0   0   0   0   0   0   0   0   0\n",
      "    0   0   0   0   0   0   0   0   0   0]\n",
      " [  0   0   0   0   0   0   0   0   0   0   0   0   0   0   0   0   0   0\n",
      "    0   0   0   0   0   0   0   0   0   0]\n",
      " [  0   0   0   0   0   0   0   0   0   0   0   0   0   0   0   0   0   0\n",
      "    0   0   0   0   0   0   0   0   0   0]\n",
      " [  0   0   0   0   0   0   0   0   0   0   0   0   0   0   0   0   0   0\n",
      "    0   0   0   0   0   0   0   0   0   0]\n",
      " [  0   0   0   0   0   0   0   0   0   0   0   0   0   0   0   0   0   0\n",
      "    0   0   0   0   0   0   0   0   0   0]\n",
      " [  0   0   0   0   0   0   0   0   0   0   0   0   3  18  18  18 126 136\n",
      "  175  26 166 255 247 127   0   0   0   0]\n",
      " [  0   0   0   0   0   0   0   0  30  36  94 154 170 253 253 253 253 253\n",
      "  225 172 253 242 195  64   0   0   0   0]\n",
      " [  0   0   0   0   0   0   0  49 238 253 253 253 253 253 253 253 253 251\n",
      "   93  82  82  56  39   0   0   0   0   0]\n",
      " [  0   0   0   0   0   0   0  18 219 253 253 253 253 253 198 182 247 241\n",
      "    0   0   0   0   0   0   0   0   0   0]\n",
      " [  0   0   0   0   0   0   0   0  80 156 107 253 253 205  11   0  43 154\n",
      "    0   0   0   0   0   0   0   0   0   0]\n",
      " [  0   0   0   0   0   0   0   0   0  14   1 154 253  90   0   0   0   0\n",
      "    0   0   0   0   0   0   0   0   0   0]\n",
      " [  0   0   0   0   0   0   0   0   0   0   0 139 253 190   2   0   0   0\n",
      "    0   0   0   0   0   0   0   0   0   0]\n",
      " [  0   0   0   0   0   0   0   0   0   0   0  11 190 253  70   0   0   0\n",
      "    0   0   0   0   0   0   0   0   0   0]\n",
      " [  0   0   0   0   0   0   0   0   0   0   0   0  35 241 225 160 108   1\n",
      "    0   0   0   0   0   0   0   0   0   0]\n",
      " [  0   0   0   0   0   0   0   0   0   0   0   0   0  81 240 253 253 119\n",
      "   25   0   0   0   0   0   0   0   0   0]\n",
      " [  0   0   0   0   0   0   0   0   0   0   0   0   0   0  45 186 253 253\n",
      "  150  27   0   0   0   0   0   0   0   0]\n",
      " [  0   0   0   0   0   0   0   0   0   0   0   0   0   0   0  16  93 252\n",
      "  253 187   0   0   0   0   0   0   0   0]\n",
      " [  0   0   0   0   0   0   0   0   0   0   0   0   0   0   0   0   0 249\n",
      "  253 249  64   0   0   0   0   0   0   0]\n",
      " [  0   0   0   0   0   0   0   0   0   0   0   0   0   0  46 130 183 253\n",
      "  253 207   2   0   0   0   0   0   0   0]\n",
      " [  0   0   0   0   0   0   0   0   0   0   0   0  39 148 229 253 253 253\n",
      "  250 182   0   0   0   0   0   0   0   0]\n",
      " [  0   0   0   0   0   0   0   0   0   0  24 114 221 253 253 253 253 201\n",
      "   78   0   0   0   0   0   0   0   0   0]\n",
      " [  0   0   0   0   0   0   0   0  23  66 213 253 253 253 253 198  81   2\n",
      "    0   0   0   0   0   0   0   0   0   0]\n",
      " [  0   0   0   0   0   0  18 171 219 253 253 253 253 195  80   9   0   0\n",
      "    0   0   0   0   0   0   0   0   0   0]\n",
      " [  0   0   0   0  55 172 226 253 253 253 253 244 133  11   0   0   0   0\n",
      "    0   0   0   0   0   0   0   0   0   0]\n",
      " [  0   0   0   0 136 253 253 253 212 135 132  16   0   0   0   0   0   0\n",
      "    0   0   0   0   0   0   0   0   0   0]\n",
      " [  0   0   0   0   0   0   0   0   0   0   0   0   0   0   0   0   0   0\n",
      "    0   0   0   0   0   0   0   0   0   0]\n",
      " [  0   0   0   0   0   0   0   0   0   0   0   0   0   0   0   0   0   0\n",
      "    0   0   0   0   0   0   0   0   0   0]\n",
      " [  0   0   0   0   0   0   0   0   0   0   0   0   0   0   0   0   0   0\n",
      "    0   0   0   0   0   0   0   0   0   0]]\n",
      "[  0.   0.   0.   0.   0.   0.   0.   0.   0.   0.   0.   0.   0.   0.\n",
      "   0.   0.   0.   0.   0.   0.   0.   0.   0.   0.   0.   0.   0.   0.\n",
      "   0.   0.   0.   0.   0.   0.   0.   0.   0.   0.   0.   0.   0.   0.\n",
      "   0.   0.   0.   0.   0.   0.   0.   0.   0.   0.   0.   0.   0.   0.\n",
      "   0.   0.   0.   0.   0.   0.   0.   0.   0.   0.   0.   0.   0.   0.\n",
      "   0.   0.   0.   0.   0.   0.   0.   0.   0.   0.   0.   0.   0.   0.\n",
      "   0.   0.   0.   0.   0.   0.   0.   0.   0.   0.   0.   0.   0.   0.\n",
      "   0.   0.   0.   0.   0.   0.   0.   0.   0.   0.   0.   0.   0.   0.\n",
      "   0.   0.   0.   0.   0.   0.   0.   0.   0.   0.   0.   0.   0.   0.\n",
      "   0.   0.   0.   0.   0.   0.   0.   0.   0.   0.   0.   0.   0.   0.\n",
      "   0.   0.   0.   0.   0.   0.   0.   0.   0.   0.   0.   0.   3.  18.\n",
      "  18.  18. 126. 136. 175.  26. 166. 255. 247. 127.   0.   0.   0.   0.\n",
      "   0.   0.   0.   0.   0.   0.   0.   0.  30.  36.  94. 154. 170. 253.\n",
      " 253. 253. 253. 253. 225. 172. 253. 242. 195.  64.   0.   0.   0.   0.\n",
      "   0.   0.   0.   0.   0.   0.   0.  49. 238. 253. 253. 253. 253. 253.\n",
      " 253. 253. 253. 251.  93.  82.  82.  56.  39.   0.   0.   0.   0.   0.\n",
      "   0.   0.   0.   0.   0.   0.   0.  18. 219. 253. 253. 253. 253. 253.\n",
      " 198. 182. 247. 241.   0.   0.   0.   0.   0.   0.   0.   0.   0.   0.\n",
      "   0.   0.   0.   0.   0.   0.   0.   0.  80. 156. 107. 253. 253. 205.\n",
      "  11.   0.  43. 154.   0.   0.   0.   0.   0.   0.   0.   0.   0.   0.\n",
      "   0.   0.   0.   0.   0.   0.   0.   0.   0.  14.   1. 154. 253.  90.\n",
      "   0.   0.   0.   0.   0.   0.   0.   0.   0.   0.   0.   0.   0.   0.\n",
      "   0.   0.   0.   0.   0.   0.   0.   0.   0.   0.   0. 139. 253. 190.\n",
      "   2.   0.   0.   0.   0.   0.   0.   0.   0.   0.   0.   0.   0.   0.\n",
      "   0.   0.   0.   0.   0.   0.   0.   0.   0.   0.   0.  11. 190. 253.\n",
      "  70.   0.   0.   0.   0.   0.   0.   0.   0.   0.   0.   0.   0.   0.\n",
      "   0.   0.   0.   0.   0.   0.   0.   0.   0.   0.   0.   0.  35. 241.\n",
      " 225. 160. 108.   1.   0.   0.   0.   0.   0.   0.   0.   0.   0.   0.\n",
      "   0.   0.   0.   0.   0.   0.   0.   0.   0.   0.   0.   0.   0.  81.\n",
      " 240. 253. 253. 119.  25.   0.   0.   0.   0.   0.   0.   0.   0.   0.\n",
      "   0.   0.   0.   0.   0.   0.   0.   0.   0.   0.   0.   0.   0.   0.\n",
      "  45. 186. 253. 253. 150.  27.   0.   0.   0.   0.   0.   0.   0.   0.\n",
      "   0.   0.   0.   0.   0.   0.   0.   0.   0.   0.   0.   0.   0.   0.\n",
      "   0.  16.  93. 252. 253. 187.   0.   0.   0.   0.   0.   0.   0.   0.\n",
      "   0.   0.   0.   0.   0.   0.   0.   0.   0.   0.   0.   0.   0.   0.\n",
      "   0.   0.   0. 249. 253. 249.  64.   0.   0.   0.   0.   0.   0.   0.\n",
      "   0.   0.   0.   0.   0.   0.   0.   0.   0.   0.   0.   0.   0.   0.\n",
      "  46. 130. 183. 253. 253. 207.   2.   0.   0.   0.   0.   0.   0.   0.\n",
      "   0.   0.   0.   0.   0.   0.   0.   0.   0.   0.   0.   0.  39. 148.\n",
      " 229. 253. 253. 253. 250. 182.   0.   0.   0.   0.   0.   0.   0.   0.\n",
      "   0.   0.   0.   0.   0.   0.   0.   0.   0.   0.  24. 114. 221. 253.\n",
      " 253. 253. 253. 201.  78.   0.   0.   0.   0.   0.   0.   0.   0.   0.\n",
      "   0.   0.   0.   0.   0.   0.   0.   0.  23.  66. 213. 253. 253. 253.\n",
      " 253. 198.  81.   2.   0.   0.   0.   0.   0.   0.   0.   0.   0.   0.\n",
      "   0.   0.   0.   0.   0.   0.  18. 171. 219. 253. 253. 253. 253. 195.\n",
      "  80.   9.   0.   0.   0.   0.   0.   0.   0.   0.   0.   0.   0.   0.\n",
      "   0.   0.   0.   0.  55. 172. 226. 253. 253. 253. 253. 244. 133.  11.\n",
      "   0.   0.   0.   0.   0.   0.   0.   0.   0.   0.   0.   0.   0.   0.\n",
      "   0.   0.   0.   0. 136. 253. 253. 253. 212. 135. 132.  16.   0.   0.\n",
      "   0.   0.   0.   0.   0.   0.   0.   0.   0.   0.   0.   0.   0.   0.\n",
      "   0.   0.   0.   0.   0.   0.   0.   0.   0.   0.   0.   0.   0.   0.\n",
      "   0.   0.   0.   0.   0.   0.   0.   0.   0.   0.   0.   0.   0.   0.\n",
      "   0.   0.   0.   0.   0.   0.   0.   0.   0.   0.   0.   0.   0.   0.\n",
      "   0.   0.   0.   0.   0.   0.   0.   0.   0.   0.   0.   0.   0.   0.\n",
      "   0.   0.   0.   0.   0.   0.   0.   0.   0.   0.   0.   0.   0.   0.\n",
      "   0.   0.   0.   0.   0.   0.   0.   0.   0.   0.   0.   0.   0.   0.]\n"
     ]
    }
   ],
   "source": [
    "#after observation, x_train seem to be 28x28x(numberOfTestImage) matrix array, y is one dimention array\n",
    "#first step 1: 28x28x(numberOfTestImage) -> make 28*28x(numberOfTestImage) \n",
    "import numpy as np\n",
    "\n",
    "x_train_c = np.zeros(shape=(len(y_train),28*28))\n",
    "\n",
    "for i in range(len(y_train)):\n",
    "    x_train_c[i] = np.reshape(x_train[i],28*28)\n",
    "\n",
    "print(x_train[0])\n",
    "print(x_train_c[0])"
   ]
  },
  {
   "cell_type": "code",
   "execution_count": 34,
   "metadata": {
    "collapsed": true
   },
   "outputs": [
    {
     "name": "stdout",
     "output_type": "stream",
     "text": [
      "[5 0 4 ... 5 6 8]\n",
      "[[5]\n",
      " [0]\n",
      " [4]\n",
      " ...\n",
      " [5]\n",
      " [6]\n",
      " [8]]\n"
     ]
    }
   ],
   "source": [
    "#now we convivert y from matrix[0,numberOfTestImage] to matrix[numberOfTestImage,0]\n",
    "print(y_train)\n",
    "y_train_c = np.array([y_train])\n",
    "y_train_c = y_train_c.T\n",
    "print(y_train_c)"
   ]
  },
  {
   "cell_type": "code",
   "execution_count": 38,
   "metadata": {
    "collapsed": true
   },
   "outputs": [
    {
     "name": "stdout",
     "output_type": "stream",
     "text": [
      "[[-0.16628642  0.90893383  0.51830147 ...  0.08450742 -0.89071492\n",
      "  -0.78432437]\n",
      " [-0.51580083  0.72694921  0.17145637 ... -0.90078253  0.62114015\n",
      "  -0.30246208]\n",
      " [ 0.3167887  -0.36154881 -0.65349784 ...  0.09986696 -0.45563848\n",
      "  -0.66683631]\n",
      " ...\n",
      " [ 0.21061606 -0.3968872   0.91191914 ... -0.63836998 -0.49878042\n",
      "  -0.5235843 ]\n",
      " [-0.11751652 -0.44063868  0.97022938 ... -0.14814002  0.4673356\n",
      "  -0.84899937]\n",
      " [ 0.18490094 -0.3527304   0.50984749 ... -0.49611952  0.13502712\n",
      "   0.58196814]]\n",
      "[[ 0.2660997 ]\n",
      " [ 0.06784885]\n",
      " [-0.85523035]\n",
      " [ 0.52826325]\n",
      " [ 0.93706664]\n",
      " [-0.58488317]\n",
      " [-0.80645074]\n",
      " [ 0.26144295]\n",
      " [-0.11088864]\n",
      " [-0.68375807]\n",
      " [ 0.29496683]\n",
      " [ 0.51948641]\n",
      " [-0.71188817]\n",
      " [-0.97784329]\n",
      " [ 0.76865937]\n",
      " [ 0.62638156]\n",
      " [ 0.43295292]\n",
      " [ 0.91722002]\n",
      " [-0.17765831]\n",
      " [ 0.92565294]\n",
      " [ 0.20427708]\n",
      " [ 0.81284326]\n",
      " [-0.36141746]\n",
      " [ 0.89272003]\n",
      " [-0.38430631]\n",
      " [ 0.57823297]\n",
      " [ 0.58071296]\n",
      " [ 0.50491441]\n",
      " [-0.5076417 ]\n",
      " [-0.62990143]\n",
      " [ 0.24277846]\n",
      " [ 0.5075643 ]\n",
      " [ 0.42234811]\n",
      " [-0.42503626]\n",
      " [ 0.50859641]\n",
      " [-0.92137054]\n",
      " [ 0.27380684]\n",
      " [-0.63517271]\n",
      " [ 0.96031332]\n",
      " [ 0.90583348]\n",
      " [ 0.93721258]\n",
      " [ 0.43360774]\n",
      " [ 0.14502671]\n",
      " [ 0.87305012]\n",
      " [-0.580065  ]\n",
      " [-0.22719438]\n",
      " [ 0.35748905]\n",
      " [-0.53990831]\n",
      " [ 0.96481275]\n",
      " [-0.47293175]\n",
      " [ 0.823884  ]\n",
      " [-0.80579909]\n",
      " [-0.61094396]\n",
      " [ 0.71568135]\n",
      " [ 0.07681646]\n",
      " [-0.57964251]\n",
      " [-0.35918389]\n",
      " [ 0.8345425 ]\n",
      " [-0.4908136 ]\n",
      " [-0.50139941]\n",
      " [ 0.37020475]\n",
      " [ 0.32776212]\n",
      " [-0.72254682]\n",
      " [-0.83866505]\n",
      " [-0.20797252]\n",
      " [-0.5314432 ]\n",
      " [ 0.43622031]\n",
      " [ 0.97918205]\n",
      " [-0.00378897]\n",
      " [-0.92835945]\n",
      " [ 0.71377366]\n",
      " [-0.00810694]\n",
      " [ 0.74335814]\n",
      " [-0.58638411]\n",
      " [-0.33192575]\n",
      " [ 0.91556964]\n",
      " [-0.53999948]\n",
      " [-0.17391028]\n",
      " [-0.26451793]\n",
      " [-0.37038308]\n",
      " [-0.42919505]\n",
      " [ 0.04406563]\n",
      " [-0.94904236]\n",
      " [-0.76076525]\n",
      " [-0.7404573 ]\n",
      " [ 0.60654317]\n",
      " [-0.96097778]\n",
      " [ 0.78227707]\n",
      " [-0.7539353 ]\n",
      " [ 0.37898097]\n",
      " [ 0.03645044]\n",
      " [-0.32137906]\n",
      " [-0.00881305]\n",
      " [ 0.88094535]\n",
      " [-0.9563168 ]\n",
      " [ 0.57398989]\n",
      " [-0.6082256 ]\n",
      " [ 0.71140067]\n",
      " [-0.35351717]\n",
      " [-0.7107105 ]\n",
      " [ 0.73544738]\n",
      " [-0.38684394]\n",
      " [-0.74586848]\n",
      " [-0.35357136]\n",
      " [-0.33700134]\n",
      " [ 0.9148967 ]\n",
      " [-0.75292725]\n",
      " [ 0.9206965 ]\n",
      " [ 0.34591751]\n",
      " [ 0.67260871]\n",
      " [-0.96956439]\n",
      " [-0.7258439 ]\n",
      " [ 0.45311496]\n",
      " [ 0.55386525]\n",
      " [-0.96857832]\n",
      " [-0.60302034]\n",
      " [-0.70168586]\n",
      " [-0.95718028]\n",
      " [ 0.51295414]\n",
      " [ 0.23081535]\n",
      " [ 0.5654015 ]\n",
      " [-0.25068066]\n",
      " [-0.08571432]\n",
      " [ 0.26608298]\n",
      " [-0.74904341]\n",
      " [-0.5977354 ]\n",
      " [ 0.13524049]\n",
      " [-0.38454636]\n",
      " [-0.241942  ]\n",
      " [-0.50491333]\n",
      " [ 0.9398016 ]\n",
      " [ 0.30332296]\n",
      " [ 0.79266185]\n",
      " [-0.46048004]\n",
      " [-0.93621989]\n",
      " [ 0.77737586]\n",
      " [-0.77425918]\n",
      " [ 0.55327715]\n",
      " [ 0.24226678]\n",
      " [-0.00374748]\n",
      " [-0.68081571]\n",
      " [ 0.35796224]\n",
      " [ 0.07613382]\n",
      " [-0.31011842]\n",
      " [ 0.96523882]\n",
      " [-0.00520405]\n",
      " [ 0.61969202]\n",
      " [ 0.59180322]\n",
      " [-0.82896849]\n",
      " [-0.57444564]\n",
      " [-0.09222766]\n",
      " [-0.79808798]\n",
      " [-0.32821239]\n",
      " [ 0.53001085]\n",
      " [ 0.53885477]\n",
      " [-0.18935707]\n",
      " [-0.66337599]\n",
      " [-0.60324682]\n",
      " [ 0.11494621]\n",
      " [ 0.2911738 ]\n",
      " [ 0.08284768]\n",
      " [ 0.58567566]\n",
      " [ 0.85654533]\n",
      " [ 0.27015593]\n",
      " [-0.95873465]\n",
      " [ 0.83701129]\n",
      " [-0.34177736]\n",
      " [ 0.65098276]\n",
      " [ 0.40221799]\n",
      " [-0.16628322]\n",
      " [ 0.23730944]\n",
      " [ 0.0065938 ]\n",
      " [-0.29881556]\n",
      " [-0.50288233]\n",
      " [ 0.5394502 ]\n",
      " [-0.70431373]\n",
      " [ 0.86099977]\n",
      " [ 0.55757813]\n",
      " [-0.00325215]\n",
      " [ 0.40280041]\n",
      " [ 0.36473246]\n",
      " [ 0.5735406 ]\n",
      " [-0.47674648]\n",
      " [ 0.67379255]\n",
      " [ 0.94624999]\n",
      " [ 0.8907738 ]\n",
      " [ 0.17975904]\n",
      " [ 0.84073839]\n",
      " [ 0.93410207]\n",
      " [ 0.83931212]\n",
      " [ 0.76967238]\n",
      " [-0.17726075]\n",
      " [-0.05513027]\n",
      " [ 0.21959033]\n",
      " [ 0.36653662]\n",
      " [-0.34222888]\n",
      " [ 0.13566818]\n",
      " [ 0.35741639]\n",
      " [-0.99247565]\n",
      " [ 0.61537491]]\n"
     ]
    }
   ],
   "source": [
    "#initialize weights randomly with mean 0\n",
    "syn0 = 2*np.random.random((28,200)) - 1\n",
    "syn1 = 2*np.random.random((200,1)) - 1\n",
    "\n",
    "print(syn0)\n",
    "print(syn1)"
   ]
  },
  {
   "cell_type": "code",
   "execution_count": 49,
   "metadata": {},
   "outputs": [],
   "source": [
    "#sigmoid function\n",
    "def nonlin(x, deriv=False):\n",
    "    if(deriv==True):\n",
    "        return x*(1-x)\n",
    "    return 1/(1 + np.exp(-x))"
   ]
  },
  {
   "cell_type": "code",
   "execution_count": 50,
   "metadata": {},
   "outputs": [
    {
     "name": "stdout",
     "output_type": "stream",
     "text": [
      "[1 2 4]\n",
      "[[1 2 3 4]\n",
      " [5 6 7 8]\n",
      " [1 2 3 4]]\n",
      "[15 22 29 36]\n"
     ]
    }
   ],
   "source": [
    "a = np.array([1,2,4])\n",
    "print(a)\n",
    "b = np.array([[1,2,3,4],\n",
    "              [5,6,7,8],\n",
    "              [1,2,3,4]])\n",
    "print(b)\n",
    "c = a.dot(b)\n",
    "print(c)"
   ]
  },
  {
   "cell_type": "code",
   "execution_count": 51,
   "metadata": {},
   "outputs": [
    {
     "ename": "ValueError",
     "evalue": "shapes (60000,784) and (28,200) not aligned: 784 (dim 1) != 28 (dim 0)",
     "output_type": "error",
     "traceback": [
      "\u001b[1;31m---------------------------------------------------------------------------\u001b[0m",
      "\u001b[1;31mValueError\u001b[0m                                Traceback (most recent call last)",
      "\u001b[1;32m<ipython-input-51-0c02dcde016c>\u001b[0m in \u001b[0;36m<module>\u001b[1;34m\u001b[0m\n\u001b[0;32m      2\u001b[0m \u001b[1;32mfor\u001b[0m \u001b[0miter\u001b[0m \u001b[1;32min\u001b[0m \u001b[0mrange\u001b[0m\u001b[1;33m(\u001b[0m\u001b[1;36m10000\u001b[0m\u001b[1;33m)\u001b[0m\u001b[1;33m:\u001b[0m\u001b[1;33m\u001b[0m\u001b[1;33m\u001b[0m\u001b[0m\n\u001b[0;32m      3\u001b[0m     \u001b[0ml0\u001b[0m \u001b[1;33m=\u001b[0m \u001b[0mx_train_c\u001b[0m\u001b[1;33m\u001b[0m\u001b[1;33m\u001b[0m\u001b[0m\n\u001b[1;32m----> 4\u001b[1;33m     \u001b[0ml1\u001b[0m \u001b[1;33m=\u001b[0m \u001b[0mnonlin\u001b[0m\u001b[1;33m(\u001b[0m\u001b[0mnp\u001b[0m\u001b[1;33m.\u001b[0m\u001b[0mdot\u001b[0m\u001b[1;33m(\u001b[0m\u001b[0ml0\u001b[0m\u001b[1;33m,\u001b[0m \u001b[0msyn0\u001b[0m\u001b[1;33m)\u001b[0m\u001b[1;33m)\u001b[0m\u001b[1;33m\u001b[0m\u001b[1;33m\u001b[0m\u001b[0m\n\u001b[0m\u001b[0;32m      5\u001b[0m     \u001b[0ml2\u001b[0m \u001b[1;33m=\u001b[0m \u001b[0mnonlin\u001b[0m\u001b[1;33m(\u001b[0m\u001b[0mnp\u001b[0m\u001b[1;33m.\u001b[0m\u001b[0mdot\u001b[0m\u001b[1;33m(\u001b[0m\u001b[0ml1\u001b[0m\u001b[1;33m,\u001b[0m \u001b[0msyn1\u001b[0m\u001b[1;33m)\u001b[0m\u001b[1;33m)\u001b[0m\u001b[1;33m\u001b[0m\u001b[1;33m\u001b[0m\u001b[0m\n",
      "\u001b[1;32m<__array_function__ internals>\u001b[0m in \u001b[0;36mdot\u001b[1;34m(*args, **kwargs)\u001b[0m\n",
      "\u001b[1;31mValueError\u001b[0m: shapes (60000,784) and (28,200) not aligned: 784 (dim 1) != 28 (dim 0)"
     ]
    }
   ],
   "source": [
    "#now train the dataset for 10000 time\n",
    "for iter in range(10000):        \n",
    "    l0 = x_train_c\n",
    "    l1 = nonlin(np.dot(l0, syn0))\n",
    "    l2 = nonlin(np.dot(l1, syn1))"
   ]
  },
  {
   "cell_type": "code",
   "execution_count": null,
   "metadata": {},
   "outputs": [],
   "source": []
  }
 ],
 "metadata": {
  "kernelspec": {
   "display_name": "Python 3",
   "language": "python",
   "name": "python3"
  },
  "language_info": {
   "codemirror_mode": {
    "name": "ipython",
    "version": 3
   },
   "file_extension": ".py",
   "mimetype": "text/x-python",
   "name": "python",
   "nbconvert_exporter": "python",
   "pygments_lexer": "ipython3",
   "version": "3.7.6"
  }
 },
 "nbformat": 4,
 "nbformat_minor": 4
}
