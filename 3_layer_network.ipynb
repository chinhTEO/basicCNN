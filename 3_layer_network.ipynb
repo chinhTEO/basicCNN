{
 "cells": [
  {
   "cell_type": "code",
   "execution_count": 2,
   "metadata": {},
   "outputs": [],
   "source": [
    "import numpy as np"
   ]
  },
  {
   "cell_type": "code",
   "execution_count": 3,
   "metadata": {},
   "outputs": [],
   "source": [
    "#sigmoid function\n",
    "def nonlin(x, deriv=False):\n",
    "    if(deriv==True):\n",
    "        return x*(1-x)\n",
    "    return 1/(1 + np.exp(-x))"
   ]
  },
  {
   "cell_type": "code",
   "execution_count": 4,
   "metadata": {},
   "outputs": [],
   "source": [
    "#input dataset\n",
    "X = np.array([[0,0,1],\n",
    "             [0,1,1],\n",
    "             [1,0,1],\n",
    "             [1,1,1]])"
   ]
  },
  {
   "cell_type": "code",
   "execution_count": 5,
   "metadata": {},
   "outputs": [
    {
     "name": "stdout",
     "output_type": "stream",
     "text": [
      "[[0]\n",
      " [0]\n",
      " [0]\n",
      " [1]]\n"
     ]
    }
   ],
   "source": [
    "#output dataset\n",
    "Y = np.array([[0,0,0,1]]).T\n",
    "print(Y)"
   ]
  },
  {
   "cell_type": "code",
   "execution_count": 6,
   "metadata": {},
   "outputs": [],
   "source": [
    "#seed random numbers to make calulation\n",
    "#deterministic (just a good practice)\n",
    "\n",
    "np.random.seed(1)"
   ]
  },
  {
   "cell_type": "code",
   "execution_count": 7,
   "metadata": {},
   "outputs": [
    {
     "name": "stdout",
     "output_type": "stream",
     "text": [
      "[[-0.16595599  0.44064899 -0.99977125 -0.39533485]\n",
      " [-0.70648822 -0.81532281 -0.62747958 -0.30887855]\n",
      " [-0.20646505  0.07763347 -0.16161097  0.370439  ]]\n",
      "[[-0.5910955 ]\n",
      " [ 0.75623487]\n",
      " [-0.94522481]\n",
      " [ 0.34093502]]\n"
     ]
    }
   ],
   "source": [
    "#initialize weights randomly with mean 0\n",
    "syn0 = 2*np.random.random((3,4)) - 1\n",
    "syn1 = 2*np.random.random((4,1)) - 1\n",
    "\n",
    "print(syn0)\n",
    "\n",
    "print(syn1)"
   ]
  },
  {
   "cell_type": "code",
   "execution_count": 8,
   "metadata": {},
   "outputs": [
    {
     "name": "stdout",
     "output_type": "stream",
     "text": [
      "[[0.44856632 0.51939863 0.45968497 0.59156505]\n",
      " [0.28639589 0.32350963 0.31236398 0.51538526]\n",
      " [0.40795614 0.62674606 0.23841622 0.49377636]\n",
      " [0.25371248 0.42628115 0.14321233 0.41732254]]\n",
      "error : 0.49045475363302393\n",
      "[[0.93652327 0.19094822 0.98881655 0.7541582 ]\n",
      " [0.30399394 0.31397825 0.69683053 0.35296006]\n",
      " [0.77963446 0.86099106 0.79539452 0.44045602]\n",
      " [0.09480621 0.92314182 0.09178196 0.12278916]]\n",
      "error : 0.005754408734440181\n",
      "[[0.94452689 0.16716842 0.99074674 0.76965609]\n",
      " [0.30865308 0.29730062 0.70426423 0.35257252]\n",
      " [0.7918487  0.85487335 0.80938494 0.45749427]\n",
      " [0.09070109 0.92546246 0.08629177 0.1208341 ]]\n",
      "error : 0.00392247080073151\n",
      "[[0.94858628 0.15442396 0.99166677 0.77819026]\n",
      " [0.31159901 0.28854899 0.70851174 0.35208021]\n",
      " [0.79816249 0.85033745 0.81649541 0.46736318]\n",
      " [0.08843679 0.92656781 0.08331098 0.11964544]]\n",
      "error : 0.0031432670883449853\n",
      "[[0.95123085 0.14584961 0.9922447  0.78401332]\n",
      " [0.31381419 0.28273101 0.71150303 0.35161111]\n",
      " [0.80230616 0.84664428 0.82111672 0.47427381]\n",
      " [0.08688825 0.92724342 0.08128854 0.11876581]]\n",
      "error : 0.0026885196243697485\n",
      "[[0.95316045 0.13945119 0.99265566 0.78839839]\n",
      " [0.31561391 0.27842474 0.71381749 0.35117965]\n",
      " [0.80533842 0.84348922 0.8244759  0.47956272]\n",
      " [0.08571944 0.92770703 0.07976939 0.11805793]]\n",
      "error : 0.0023825160167835688\n"
     ]
    }
   ],
   "source": [
    "for iter in range(60000):\n",
    "    \n",
    "    #forward propagation\n",
    "    l0 = X\n",
    "    l1 = nonlin(np.dot(l0,syn0))\n",
    "    l2 = nonlin(np.dot(l1,syn1))\n",
    "    \n",
    "    #how much did we miss\n",
    "    l2_error = Y - l2\n",
    "    \n",
    "    if(iter%10000 == 0):\n",
    "        print(l1)\n",
    "        print(\"error : {0}\".format(str(np.mean(np.abs(l2_error)))))\n",
    "        \n",
    "    # in what direction is the target value?\n",
    "    # were we really sure? if so, don't change too much.\n",
    "    l2_delta = l2_error*nonlin(l2, deriv = True)\n",
    "    \n",
    "    #how much did each l1 value contribute to the l2 error (according to the weight)\n",
    "    l1_error = l2_delta.dot(syn1.T)\n",
    "    \n",
    "    # in what direction is the target l1 ?\n",
    "    # were we really sure ? if so, dont change too much\n",
    "    l1_delta = l1_error * nonlin(l1, deriv = True)\n",
    "    \n",
    "\n",
    "    #update weights\n",
    "    syn1 += l1.T.dot(l2_delta)\n",
    "    syn0 += l0.T.dot(l1_delta) \n",
    "    "
   ]
  },
  {
   "cell_type": "code",
   "execution_count": 12,
   "metadata": {},
   "outputs": [
    {
     "name": "stdout",
     "output_type": "stream",
     "text": [
      "output of the training :\n",
      "[[0.95466356 0.13438137 0.99296948 0.7918958 ]\n",
      " [0.31714211 0.27503328 0.71570769 0.35078419]\n",
      " [0.80770203 0.84071372 0.8270812  0.48382779]\n",
      " [0.08478522 0.92804752 0.07855898 0.11746103]]\n"
     ]
    }
   ],
   "source": [
    "print(\"output of the training :\")\n",
    "print(l1)   "
   ]
  },
  {
   "cell_type": "code",
   "execution_count": null,
   "metadata": {},
   "outputs": [],
   "source": []
  }
 ],
 "metadata": {
  "kernelspec": {
   "display_name": "Python 3",
   "language": "python",
   "name": "python3"
  },
  "language_info": {
   "codemirror_mode": {
    "name": "ipython",
    "version": 3
   },
   "file_extension": ".py",
   "mimetype": "text/x-python",
   "name": "python",
   "nbconvert_exporter": "python",
   "pygments_lexer": "ipython3",
   "version": "3.7.6"
  }
 },
 "nbformat": 4,
 "nbformat_minor": 4
}
